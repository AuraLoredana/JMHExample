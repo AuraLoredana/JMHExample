{
 "cells": [
  {
   "cell_type": "code",
   "execution_count": 1,
   "metadata": {},
   "outputs": [],
   "source": [
    "#Benchmark                        Mode  Cnt          Score          Error  Units\n",
    "#Counter.getValue                thrpt    3   57086263.523 ±  4319590.349  ops/s\n",
    "#Counter.increment               thrpt    3       1728.904 ±     2797.409  ops/s\n",
    "#CounterLock.inc                 thrpt    3       2527.789 ±     5598.678  ops/s\n",
    "#CounterReentrantLock.getValue   thrpt    3   53507244.753 ± 32129656.824  ops/s\n",
    "#CounterReentrantLock.increment  thrpt    3       2475.183 ±     5270.441  ops/s\n",
    "#NonblockingCounter.getValue     thrpt    3  279898336.949 ± 60641533.357  ops/s\n",
    "#NonblockingCounter.increment    thrpt    3       2570.333 ±     5966.660  ops/s"
   ]
  },
  {
   "cell_type": "code",
   "execution_count": 62,
   "metadata": {},
   "outputs": [],
   "source": [
    "import numpy as np\n",
    "import pandas as pd\n",
    "import matplotlib as mpl\n",
    "import matplotlib.pyplot as plt\n",
    "import seaborn as sns\n",
    "import warnings; warnings.filterwarnings(action='once')"
   ]
  },
  {
   "cell_type": "code",
   "execution_count": 63,
   "metadata": {},
   "outputs": [
    {
     "data": {
      "text/html": [
       "<div>\n",
       "<style scoped>\n",
       "    .dataframe tbody tr th:only-of-type {\n",
       "        vertical-align: middle;\n",
       "    }\n",
       "\n",
       "    .dataframe tbody tr th {\n",
       "        vertical-align: top;\n",
       "    }\n",
       "\n",
       "    .dataframe thead th {\n",
       "        text-align: right;\n",
       "    }\n",
       "</style>\n",
       "<table border=\"1\" class=\"dataframe\">\n",
       "  <thead>\n",
       "    <tr style=\"text-align: right;\">\n",
       "      <th></th>\n",
       "      <th>Benchmark</th>\n",
       "      <th>Mode</th>\n",
       "      <th>Cnt</th>\n",
       "      <th>Score</th>\n",
       "      <th>Units</th>\n",
       "    </tr>\n",
       "  </thead>\n",
       "  <tbody>\n",
       "    <tr>\n",
       "      <th>0</th>\n",
       "      <td>Counter.getValue</td>\n",
       "      <td>thrpt</td>\n",
       "      <td>3</td>\n",
       "      <td>5.708626e+07</td>\n",
       "      <td>ops/s</td>\n",
       "    </tr>\n",
       "    <tr>\n",
       "      <th>1</th>\n",
       "      <td>CounterReentrantLock.getValue</td>\n",
       "      <td>thrpt</td>\n",
       "      <td>3</td>\n",
       "      <td>5.350724e+07</td>\n",
       "      <td>ops/s</td>\n",
       "    </tr>\n",
       "    <tr>\n",
       "      <th>2</th>\n",
       "      <td>NonblockingCounter.getValue</td>\n",
       "      <td>thrpt</td>\n",
       "      <td>3</td>\n",
       "      <td>2.798983e+08</td>\n",
       "      <td>ops/s</td>\n",
       "    </tr>\n",
       "  </tbody>\n",
       "</table>\n",
       "</div>"
      ],
      "text/plain": [
       "                       Benchmark   Mode  Cnt         Score  Units\n",
       "0               Counter.getValue  thrpt    3  5.708626e+07  ops/s\n",
       "1  CounterReentrantLock.getValue  thrpt    3  5.350724e+07  ops/s\n",
       "2    NonblockingCounter.getValue  thrpt    3  2.798983e+08  ops/s"
      ]
     },
     "execution_count": 63,
     "metadata": {},
     "output_type": "execute_result"
    }
   ],
   "source": [
    "# Import Data\n",
    "df_read = pd.read_csv(\"scoresReadCounter.csv\")\n",
    "df_read"
   ]
  },
  {
   "cell_type": "code",
   "execution_count": 64,
   "metadata": {},
   "outputs": [
    {
     "data": {
      "text/html": [
       "<div>\n",
       "<style scoped>\n",
       "    .dataframe tbody tr th:only-of-type {\n",
       "        vertical-align: middle;\n",
       "    }\n",
       "\n",
       "    .dataframe tbody tr th {\n",
       "        vertical-align: top;\n",
       "    }\n",
       "\n",
       "    .dataframe thead th {\n",
       "        text-align: right;\n",
       "    }\n",
       "</style>\n",
       "<table border=\"1\" class=\"dataframe\">\n",
       "  <thead>\n",
       "    <tr style=\"text-align: right;\">\n",
       "      <th></th>\n",
       "      <th>Benchmark</th>\n",
       "      <th>Mode</th>\n",
       "      <th>Cnt</th>\n",
       "      <th>Score</th>\n",
       "      <th>Units</th>\n",
       "    </tr>\n",
       "  </thead>\n",
       "  <tbody>\n",
       "    <tr>\n",
       "      <th>0</th>\n",
       "      <td>Counter.increment</td>\n",
       "      <td>thrpt</td>\n",
       "      <td>3</td>\n",
       "      <td>1728.904</td>\n",
       "      <td>ops/s</td>\n",
       "    </tr>\n",
       "    <tr>\n",
       "      <th>1</th>\n",
       "      <td>CounterLock.inc</td>\n",
       "      <td>thrpt</td>\n",
       "      <td>3</td>\n",
       "      <td>2527.789</td>\n",
       "      <td>ops/s</td>\n",
       "    </tr>\n",
       "    <tr>\n",
       "      <th>2</th>\n",
       "      <td>CounterReentrantLock.increment</td>\n",
       "      <td>thrpt</td>\n",
       "      <td>3</td>\n",
       "      <td>2475.183</td>\n",
       "      <td>ops/s</td>\n",
       "    </tr>\n",
       "    <tr>\n",
       "      <th>3</th>\n",
       "      <td>NonblockingCounter.increment</td>\n",
       "      <td>thrpt</td>\n",
       "      <td>3</td>\n",
       "      <td>2570.333</td>\n",
       "      <td>ops/s</td>\n",
       "    </tr>\n",
       "  </tbody>\n",
       "</table>\n",
       "</div>"
      ],
      "text/plain": [
       "                        Benchmark   Mode  Cnt     Score  Units\n",
       "0               Counter.increment  thrpt    3  1728.904  ops/s\n",
       "1                 CounterLock.inc  thrpt    3  2527.789  ops/s\n",
       "2  CounterReentrantLock.increment  thrpt    3  2475.183  ops/s\n",
       "3    NonblockingCounter.increment  thrpt    3  2570.333  ops/s"
      ]
     },
     "execution_count": 64,
     "metadata": {},
     "output_type": "execute_result"
    }
   ],
   "source": [
    "# Import Data\n",
    "df_write = pd.read_csv(\"scoresCounterWrite.csv\")\n",
    "df_write"
   ]
  },
  {
   "cell_type": "code",
   "execution_count": 65,
   "metadata": {},
   "outputs": [
    {
     "data": {
      "text/plain": [
       "'Counter.getValue'"
      ]
     },
     "execution_count": 65,
     "metadata": {},
     "output_type": "execute_result"
    }
   ],
   "source": [
    "df_read['Benchmark'][0]"
   ]
  },
  {
   "cell_type": "code",
   "execution_count": 66,
   "metadata": {},
   "outputs": [
    {
     "name": "stderr",
     "output_type": "stream",
     "text": [
      "<ipython-input-66-fa35f945b814>:1: SettingWithCopyWarning: \n",
      "A value is trying to be set on a copy of a slice from a DataFrame\n",
      "\n",
      "See the caveats in the documentation: https://pandas.pydata.org/pandas-docs/stable/user_guide/indexing.html#returning-a-view-versus-a-copy\n",
      "  df_read['Benchmark'][0] = 'Counter'\n"
     ]
    }
   ],
   "source": [
    "df_read['Benchmark'][0] = 'Counter'\n",
    "df_read['Benchmark'][1] = 'CounterReentrantLock'\n",
    "df_read['Benchmark'][2] = 'NonblockingCounter'"
   ]
  },
  {
   "cell_type": "code",
   "execution_count": 67,
   "metadata": {},
   "outputs": [
    {
     "data": {
      "text/html": [
       "<div>\n",
       "<style scoped>\n",
       "    .dataframe tbody tr th:only-of-type {\n",
       "        vertical-align: middle;\n",
       "    }\n",
       "\n",
       "    .dataframe tbody tr th {\n",
       "        vertical-align: top;\n",
       "    }\n",
       "\n",
       "    .dataframe thead th {\n",
       "        text-align: right;\n",
       "    }\n",
       "</style>\n",
       "<table border=\"1\" class=\"dataframe\">\n",
       "  <thead>\n",
       "    <tr style=\"text-align: right;\">\n",
       "      <th></th>\n",
       "      <th>Benchmark</th>\n",
       "      <th>Mode</th>\n",
       "      <th>Cnt</th>\n",
       "      <th>Score</th>\n",
       "      <th>Units</th>\n",
       "    </tr>\n",
       "  </thead>\n",
       "  <tbody>\n",
       "    <tr>\n",
       "      <th>0</th>\n",
       "      <td>Counter</td>\n",
       "      <td>thrpt</td>\n",
       "      <td>3</td>\n",
       "      <td>5.708626e+07</td>\n",
       "      <td>ops/s</td>\n",
       "    </tr>\n",
       "    <tr>\n",
       "      <th>1</th>\n",
       "      <td>CounterReentrantLock</td>\n",
       "      <td>thrpt</td>\n",
       "      <td>3</td>\n",
       "      <td>5.350724e+07</td>\n",
       "      <td>ops/s</td>\n",
       "    </tr>\n",
       "    <tr>\n",
       "      <th>2</th>\n",
       "      <td>NonblockingCounter</td>\n",
       "      <td>thrpt</td>\n",
       "      <td>3</td>\n",
       "      <td>2.798983e+08</td>\n",
       "      <td>ops/s</td>\n",
       "    </tr>\n",
       "  </tbody>\n",
       "</table>\n",
       "</div>"
      ],
      "text/plain": [
       "              Benchmark   Mode  Cnt         Score  Units\n",
       "0               Counter  thrpt    3  5.708626e+07  ops/s\n",
       "1  CounterReentrantLock  thrpt    3  5.350724e+07  ops/s\n",
       "2    NonblockingCounter  thrpt    3  2.798983e+08  ops/s"
      ]
     },
     "execution_count": 67,
     "metadata": {},
     "output_type": "execute_result"
    }
   ],
   "source": [
    "df_read"
   ]
  },
  {
   "cell_type": "code",
   "execution_count": 68,
   "metadata": {},
   "outputs": [
    {
     "data": {
      "image/png": "[encoded data removed]",
      "text/plain": [
       "<Figure size 432x288 with 1 Axes>"
      ]
     },
     "metadata": {},
     "output_type": "display_data"
    }
   ],
   "source": [
    "labels = df_read['Benchmark']\n",
    "sizes = df_read['Score']\n",
    "colors = ['yellowgreen','lightskyblue', 'lightcoral']\n",
    "explode = (0, 0.1, 0)  # only \"explode\" the 2nd slice (i.e. 'Hogs')\n",
    "\n",
    "fig1, ax1 = plt.subplots()\n",
    "ax1.pie(sizes, explode=explode,colors=colors, labels=labels, autopct='%1.1f%%',\n",
    "        shadow=True, startangle=90)\n",
    "plt.title('Throughput Measurement Counter using lock vs atomic for read')\n",
    "ax1.axis('equal')  # Equal aspect ratio ensures that pie is drawn as a circle.\n",
    "\n",
    "plt.show()"
   ]
  },
  {
   "cell_type": "code",
   "execution_count": 69,
   "metadata": {},
   "outputs": [
    {
     "name": "stderr",
     "output_type": "stream",
     "text": [
      "<ipython-input-69-48e294492eda>:1: SettingWithCopyWarning: \n",
      "A value is trying to be set on a copy of a slice from a DataFrame\n",
      "\n",
      "See the caveats in the documentation: https://pandas.pydata.org/pandas-docs/stable/user_guide/indexing.html#returning-a-view-versus-a-copy\n",
      "  df_write['Benchmark'][0] = 'Counter'\n"
     ]
    }
   ],
   "source": [
    "df_write['Benchmark'][0] = 'Counter'\n",
    "df_write['Benchmark'][1] = 'CounterLock'\n",
    "df_write['Benchmark'][2] = 'CounterReentrantLock'\n",
    "df_write['Benchmark'][3] = 'NonblockingCounter'"
   ]
  },
  {
   "cell_type": "code",
   "execution_count": 70,
   "metadata": {},
   "outputs": [
    {
     "data": {
      "text/html": [
       "<div>\n",
       "<style scoped>\n",
       "    .dataframe tbody tr th:only-of-type {\n",
       "        vertical-align: middle;\n",
       "    }\n",
       "\n",
       "    .dataframe tbody tr th {\n",
       "        vertical-align: top;\n",
       "    }\n",
       "\n",
       "    .dataframe thead th {\n",
       "        text-align: right;\n",
       "    }\n",
       "</style>\n",
       "<table border=\"1\" class=\"dataframe\">\n",
       "  <thead>\n",
       "    <tr style=\"text-align: right;\">\n",
       "      <th></th>\n",
       "      <th>Benchmark</th>\n",
       "      <th>Mode</th>\n",
       "      <th>Cnt</th>\n",
       "      <th>Score</th>\n",
       "      <th>Units</th>\n",
       "    </tr>\n",
       "  </thead>\n",
       "  <tbody>\n",
       "    <tr>\n",
       "      <th>0</th>\n",
       "      <td>Counter</td>\n",
       "      <td>thrpt</td>\n",
       "      <td>3</td>\n",
       "      <td>1728.904</td>\n",
       "      <td>ops/s</td>\n",
       "    </tr>\n",
       "    <tr>\n",
       "      <th>1</th>\n",
       "      <td>CounterLock</td>\n",
       "      <td>thrpt</td>\n",
       "      <td>3</td>\n",
       "      <td>2527.789</td>\n",
       "      <td>ops/s</td>\n",
       "    </tr>\n",
       "    <tr>\n",
       "      <th>2</th>\n",
       "      <td>CounterReentrantLock</td>\n",
       "      <td>thrpt</td>\n",
       "      <td>3</td>\n",
       "      <td>2475.183</td>\n",
       "      <td>ops/s</td>\n",
       "    </tr>\n",
       "    <tr>\n",
       "      <th>3</th>\n",
       "      <td>NonblockingCounter</td>\n",
       "      <td>thrpt</td>\n",
       "      <td>3</td>\n",
       "      <td>2570.333</td>\n",
       "      <td>ops/s</td>\n",
       "    </tr>\n",
       "  </tbody>\n",
       "</table>\n",
       "</div>"
      ],
      "text/plain": [
       "              Benchmark   Mode  Cnt     Score  Units\n",
       "0               Counter  thrpt    3  1728.904  ops/s\n",
       "1           CounterLock  thrpt    3  2527.789  ops/s\n",
       "2  CounterReentrantLock  thrpt    3  2475.183  ops/s\n",
       "3    NonblockingCounter  thrpt    3  2570.333  ops/s"
      ]
     },
     "execution_count": 70,
     "metadata": {},
     "output_type": "execute_result"
    }
   ],
   "source": [
    "df_write"
   ]
  },
  {
   "cell_type": "code",
   "execution_count": 71,
   "metadata": {},
   "outputs": [
    {
     "data": {
      "image/png": "[encoded data removed]",
      "text/plain": [
       "<Figure size 432x288 with 1 Axes>"
      ]
     },
     "metadata": {},
     "output_type": "display_data"
    }
   ],
   "source": [
    "# Pie chart, where the slices will be ordered and plotted counter-clockwise:\n",
    "labels = df_write['Benchmark']\n",
    "sizes = df_write['Score']\n",
    "colors = ['yellowgreen', 'gold', 'lightskyblue', 'lightcoral']\n",
    "explode = (0, 0.1, 0, 0)  # only \"explode\" the 2nd slice (i.e. 'Hogs')\n",
    "\n",
    "fig1, ax1 = plt.subplots()\n",
    "ax1.pie(sizes, explode=explode,colors=colors, labels=labels, autopct='%1.1f%%',\n",
    "        shadow=True, startangle=90)\n",
    "plt.title('Throughput Measurement Counter using lock vs atomic for write')\n",
    "ax1.axis('equal')  # Equal aspect ratio ensures that pie is drawn as a circle.\n",
    "\n",
    "plt.show()"
   ]
  },
  {
   "cell_type": "code",
   "execution_count": null,
   "metadata": {},
   "outputs": [],
   "source": []
  }
 ],
 "metadata": {
  "kernelspec": {
   "display_name": "Python 3",
   "language": "python",
   "name": "python3"
  },
  "language_info": {
   "codemirror_mode": {
    "name": "ipython",
    "version": 3
   },
   "file_extension": ".py",
   "mimetype": "text/x-python",
   "name": "python",
   "nbconvert_exporter": "python",
   "pygments_lexer": "ipython3",
   "version": "3.8.2"
  }
 },
 "nbformat": 4,
 "nbformat_minor": 4
}
